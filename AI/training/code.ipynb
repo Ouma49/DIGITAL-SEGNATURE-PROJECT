{
 "cells": [
  {
   "cell_type": "markdown",
   "id": "7aaa5b24",
   "metadata": {},
   "source": [
    "ss"
   ]
  },
  {
   "cell_type": "code",
   "execution_count": null,
   "id": "eb10a735",
   "metadata": {},
   "outputs": [],
   "source": [
    "import numpy as np\n",
    "import pandas as pd\n",
    "from sklearn.model_selection import train_test_split\n",
    "from sklearn.preprocessing import StandardScaler\n",
    "from sklearn.linear_model import LogisticRegression\n",
    "import joblib\n",
    "import re\n"
   ]
  },
  {
   "cell_type": "code",
   "execution_count": 3,
   "id": "40ae7915",
   "metadata": {},
   "outputs": [
    {
     "data": {
      "text/plain": [
       "['scaler.pkl']"
      ]
     },
     "execution_count": 3,
     "metadata": {},
     "output_type": "execute_result"
    }
   ],
   "source": [
    "\n",
    "# Load and preprocess data\n",
    "df = pd.read_csv('PDFMalware2022.csv', header=0)\n",
    "\n",
    "# Drop rows with missing 'Class' and invalid 'endobj' values\n",
    "df = df.dropna(subset=['Class'])\n",
    "df = df[df['endobj'] != 'pdfid.py']\n",
    "\n",
    "# Replace NaN with 0 and -1 with 0\n",
    "df = df.fillna(0).replace([-1, -1.00], 0)\n",
    "\n",
    "# Convert categorical columns\n",
    "df['Class'] = np.where(df['Class'].str.contains('Malicious'), 1, 0)\n",
    "df['text'] = np.where(df['text'].str.contains('Yes'), 1, 0)\n",
    "\n",
    "# Process header column\n",
    "def header_obj(col):\n",
    "    return 1 if re.search(r'%PDF-\\d*\\.?\\d*', col) else 0\n",
    "\n",
    "df['header'] = df['header'].apply(header_obj)\n",
    "\n",
    "# Drop unnecessary columns\n",
    "df = df.drop(['File name', 'JS', 'title characters'], axis=1)\n",
    "\n",
    "# Prepare features and target\n",
    "X = df.drop('Class', axis=1)\n",
    "y = df['Class']\n",
    "\n",
    "# Scale features\n",
    "scaler = StandardScaler()\n",
    "X_scaled = scaler.fit_transform(X)\n",
    "\n",
    "# Split data\n",
    "X_train, X_test, y_train, y_test = train_test_split(X_scaled, y, test_size=0.25, random_state=0, shuffle=True)\n",
    "\n",
    "# Train Logistic Regression model\n",
    "model = LogisticRegression(solver='liblinear')\n",
    "model.fit(X_train, y_train)\n",
    "\n"
   ]
  },
  {
   "cell_type": "markdown",
   "id": "405501bc",
   "metadata": {},
   "source": [
    "saving"
   ]
  },
  {
   "cell_type": "code",
   "execution_count": null,
   "id": "b7681e40",
   "metadata": {},
   "outputs": [],
   "source": [
    "# Save the model and scaler\n",
    "joblib.dump(model, 'pdf_malware_model.pkl')\n",
    "joblib.dump(scaler, 'scaler.pkl')"
   ]
  }
 ],
 "metadata": {
  "kernelspec": {
   "display_name": "ml-venv",
   "language": "python",
   "name": "python3"
  },
  "language_info": {
   "codemirror_mode": {
    "name": "ipython",
    "version": 3
   },
   "file_extension": ".py",
   "mimetype": "text/x-python",
   "name": "python",
   "nbconvert_exporter": "python",
   "pygments_lexer": "ipython3",
   "version": "3.13.2"
  }
 },
 "nbformat": 4,
 "nbformat_minor": 5
}
